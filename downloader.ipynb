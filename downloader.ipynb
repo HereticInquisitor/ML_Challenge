{
 "cells": [
  {
   "cell_type": "code",
   "execution_count": null,
   "metadata": {},
   "outputs": [],
   "source": [
    "import pandas as pd\n",
    "import os\n",
    "import requests\n",
    "\n",
    "# Load the dataset (assumes a CSV file)\n",
    "df = pd.read_csv('/home/ayush/Ayush/hackathon/ML_Challenge/data/student_resource 3/dataset/train.csv')\n",
    "\n",
    "# Create a folder to store the images\n",
    "image_folder = 'downloaded_images'\n",
    "os.makedirs(image_folder, exist_ok=True)\n",
    "\n",
    "# Loop through the dataset rows\n",
    "for index, row in df.iterrows():\n",
    "    image_url = row['image_link']  # Column containing the image URLs\n",
    "    group_id = str(row['group_id'])  # Column containing the group_id\n",
    "\n",
    "    # Define the image file path with group_id as the name\n",
    "    image_path = os.path.join(image_folder, f\"{group_id}.jpg\")\n",
    "    \n",
    "    # Download the image\n",
    "    try:\n",
    "        response = requests.get(image_url)\n",
    "        response.raise_for_status()  # Check for errors\n",
    "        \n",
    "        # Save the image file\n",
    "        with open(image_path, 'wb') as img_file:\n",
    "            img_file.write(response.content)\n",
    "        print(f\"Downloaded and saved {image_path}\")\n",
    "    \n",
    "    except requests.exceptions.RequestException as e:\n",
    "        print(f\"Error downloading {image_url}: {e}\")\n"
   ]
  }
 ],
 "metadata": {
  "kernelspec": {
   "display_name": "myenv",
   "language": "python",
   "name": "python3"
  },
  "language_info": {
   "name": "python",
   "version": "3.10.0"
  }
 },
 "nbformat": 4,
 "nbformat_minor": 2
}
